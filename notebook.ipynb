{
 "cells": [
  {
   "cell_type": "code",
   "execution_count": 12,
   "metadata": {},
   "outputs": [],
   "source": [
    "import cv2\n",
    "import pytesseract\n",
    "import matplotlib.pyplot as plt"
   ]
  },
  {
   "cell_type": "code",
   "execution_count": 13,
   "metadata": {},
   "outputs": [],
   "source": [
    "pytesseract.pytesseract.tesseract_cmd = r'D:\\application\\Tesseract-OCR\\tesseract.exe'"
   ]
  },
  {
   "cell_type": "code",
   "execution_count": 14,
   "metadata": {},
   "outputs": [],
   "source": [
    "images = []\n",
    "\n",
    "img500 = cv2.imread(\"./static/card/500.jpg\")\n",
    "images.append(img500)\n",
    "# plt.imshow(img500)\n",
    "plt.show()\n",
    "img1000 = cv2.imread(\"./static/card/1000.jpg\")\n",
    "images.append(img1000)\n",
    "# plt.imshow(img1000)\n",
    "plt.show()\n",
    "img2000 = cv2.imread(\"./static/card/2000.jpg\")\n",
    "images.append(img2000)\n",
    "# plt.imshow(img2000)\n",
    "plt.show()"
   ]
  },
  {
   "cell_type": "code",
   "execution_count": 15,
   "metadata": {},
   "outputs": [],
   "source": [
    "def extract_text_from_image(image) -> None:\n",
    "    gray = cv2.cvtColor(image, cv2.COLOR_BGR2GRAY)\n",
    "    _, threshed = cv2.threshold(gray, 127, 255, cv2.THRESH_TRUNC)\n",
    "    return pytesseract.image_to_string(threshed, lang='eng', config='--psm 6')"
   ]
  },
  {
   "cell_type": "code",
   "execution_count": 20,
   "metadata": {},
   "outputs": [
    {
     "name": "stdout",
     "output_type": "stream",
     "text": [
      "1: 123456789123\n",
      "2: 123456789123\n",
      "3: 123456789123\n"
     ]
    }
   ],
   "source": [
    "def extract_card_number(list_text: list) -> str | None:\n",
    "    for text in list_text:\n",
    "        if len(text) == 12 and text.isdigit(): return text\n",
    "        elif len(text) > 12:\n",
    "            text_split = text.split(' ')\n",
    "            for i in text_split:\n",
    "                if len(i) == 12 and i.isdigit(): return i\n",
    "    return None\n",
    "\n",
    "print('1:', extract_card_number(['Serial Number:', '0020317320480 123456789123', '']))\n",
    "print('2:', extract_card_number(['Serial 123456789123 Number:', '0020317320480 123456789123', '']))\n",
    "print('3:', extract_card_number(['123456789123', '¢ Pour recharger votre crédit ¢ How to recharge your prepaid card', 'Mode de rechargement : Instructions for recharge:']))"
   ]
  },
  {
   "cell_type": "code",
   "execution_count": 17,
   "metadata": {},
   "outputs": [],
   "source": [
    "for i, img in enumerate(images):\n",
    "    text = extract_text_from_image(img)\n",
    "    num = extract_card_number(text.split())\n",
    "\n",
    "    # print('-'*60)\n",
    "    # print(f\"contenu de l'image {i + 1} :\")\n",
    "    # print(num)"
   ]
  }
 ],
 "metadata": {
  "kernelspec": {
   "display_name": ".venv",
   "language": "python",
   "name": "python3"
  },
  "language_info": {
   "codemirror_mode": {
    "name": "ipython",
    "version": 3
   },
   "file_extension": ".py",
   "mimetype": "text/x-python",
   "name": "python",
   "nbconvert_exporter": "python",
   "pygments_lexer": "ipython3",
   "version": "3.10.10"
  },
  "orig_nbformat": 4
 },
 "nbformat": 4,
 "nbformat_minor": 2
}
