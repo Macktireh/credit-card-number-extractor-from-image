{
 "cells": [
  {
   "cell_type": "code",
   "execution_count": null,
   "metadata": {},
   "outputs": [],
   "source": [
    "import os\n",
    "import cv2\n",
    "import pytesseract\n",
    "import matplotlib.pyplot as plt\n",
    "\n",
    "if os.name == 'nt':\n",
    "    pytesseract.pytesseract.tesseract_cmd = r'D:\\application\\Tesseract-OCR\\tesseract.exe'"
   ]
  },
  {
   "cell_type": "code",
   "execution_count": 3,
   "metadata": {},
   "outputs": [],
   "source": [
    "images = []\n",
    "\n",
    "img500 = cv2.imread(\"./static/card/all_500_2.jpg\")\n",
    "images.append(img500)\n",
    "# plt.imshow(img500)\n",
    "# plt.show()\n",
    "# img1000 = cv2.imread(\"./static/card/1000.jpg\")\n",
    "# images.append(img1000)\n",
    "# # plt.imshow(img1000)\n",
    "# plt.show()\n",
    "# img2000 = cv2.imread(\"./static/card/2000.jpg\")\n",
    "# images.append(img2000)\n",
    "# # plt.imshow(img2000)\n",
    "# plt.show()"
   ]
  },
  {
   "cell_type": "code",
   "execution_count": null,
   "metadata": {},
   "outputs": [],
   "source": [
    "def extract_text_from_image(image) -> None:\n",
    "    gray = cv2.cvtColor(image, cv2.COLOR_BGR2GRAY)\n",
    "    _, threshed = cv2.threshold(gray, 127, 255, cv2.THRESH_TRUNC)\n",
    "    return pytesseract.image_to_string(threshed, lang='eng', config='--psm 6')"
   ]
  },
  {
   "cell_type": "code",
   "execution_count": 5,
   "metadata": {},
   "outputs": [
    {
     "name": "stdout",
     "output_type": "stream",
     "text": [
      "1: 123456789123\n",
      "2: 123456789123\n",
      "3: 123456789123\n"
     ]
    }
   ],
   "source": [
    "def extract_card_number(list_text: list) -> str | None:\n",
    "    for text in list_text:\n",
    "        if len(text) == 12 and text.isdigit(): return text\n",
    "        elif len(text) > 12:\n",
    "            text_split = text.split(' ')\n",
    "            for i in text_split:\n",
    "                if len(i) == 12 and i.isdigit(): return i\n",
    "    return None\n",
    "\n",
    "print('1:', extract_card_number(['Serial Number:', '0020317320480 123456789123', '']))\n",
    "print('2:', extract_card_number(['Serial 123456789123 Number:', '0020317320480 123456789123', '']))\n",
    "print('3:', extract_card_number(['123456789123', '¢ Pour recharger votre crédit ¢ How to recharge your prepaid card', 'Mode de rechargement : Instructions for recharge:']))"
   ]
  },
  {
   "cell_type": "code",
   "execution_count": 6,
   "metadata": {},
   "outputs": [
    {
     "name": "stdout",
     "output_type": "stream",
     "text": [
      "------------------------------------------------------------\n",
      "contenu de l'image 1 :\n",
      "CAROL 619412723454 | Coa 478708862060\n",
      "oooosreazease 803157469682 ‘oooreszesar 407200995124\n",
      "ovctsreszeaes @soaageer240 | CTE © FERNEATEEOA\n",
      "sooosraezsase 198895024254 | SoMeKeD © EREVEEFESED\n",
      "cenoovscesos 169405429708 | poaareagste _a2eaqo904836\n",
      "\n"
     ]
    }
   ],
   "source": [
    "for i, img in enumerate(images):\n",
    "    text = extract_text_from_image(img)\n",
    "    num = extract_card_number(text.split())\n",
    "\n",
    "    print('-'*60)\n",
    "    print(f\"contenu de l'image {i + 1} :\")\n",
    "    print(text)"
   ]
  },
  {
   "cell_type": "code",
   "execution_count": 10,
   "metadata": {},
   "outputs": [],
   "source": [
    "def get_tuple_list(input_list):\n",
    "    output_list = []\n",
    "    while len(input_list) >= 2:\n",
    "        num = input_list[0]\n",
    "        index = input_list.index(num)\n",
    "        input_list.pop(index)\n",
    "        next_num = input_list[index]\n",
    "        input_list.pop(index)\n",
    "        output_list.append((num, next_num))\n",
    "    return output_list"
   ]
  },
  {
   "cell_type": "code",
   "execution_count": 11,
   "metadata": {},
   "outputs": [
    {
     "name": "stdout",
     "output_type": "stream",
     "text": [
      "[('0000123456789', '012345678912'), ('0000123456789', '012345678912'), ('012345678912', '0000123456789')]\n"
     ]
    }
   ],
   "source": [
    "input_list = [\n",
    "    \"0000123456789\",\n",
    "    \"012345678912\",\n",
    "    \"0000123456789\",\n",
    "    \"012345678912\",\n",
    "    \"012345678912\",\n",
    "    \"0000123456789\",\n",
    "]\n",
    "\n",
    "output_list = get_tuple_list(input_list)\n",
    "print(output_list) # [(\"0000123456789\", \"012345678912\"), (\"0000123456789\", \"012345678912\"), (\"012345678912\", \"0000123456789\")]\n"
   ]
  },
  {
   "cell_type": "code",
   "execution_count": 22,
   "metadata": {},
   "outputs": [],
   "source": [
    "def format_data(data_list):\n",
    "    result_list = []\n",
    "    for data_tuple in data_list:\n",
    "        value1, value2 = data_tuple\n",
    "        if len(value1) == 12 and not value1.startswith('0000'):\n",
    "            code = value1\n",
    "            serial = value2\n",
    "        else:\n",
    "            code = value2\n",
    "            serial = value1\n",
    "        # if not code.startswith('0000') and serial.startswith('0000'):\n",
    "        result_list.append({\n",
    "            'code': code,\n",
    "            'serial': serial\n",
    "        })\n",
    "    return result_list\n"
   ]
  },
  {
   "cell_type": "code",
   "execution_count": 23,
   "metadata": {},
   "outputs": [
    {
     "name": "stdout",
     "output_type": "stream",
     "text": [
      "[{'code': '012345678912', 'serial': '0000123456789'}, {'code': '012345678912', 'serial': '0000123456789'}, {'code': '012345678912', 'serial': '0000123456789'}]\n"
     ]
    }
   ],
   "source": [
    "input_list = [(\"0000123456789\", \"012345678912\"), (\"0000123456789\", \"012345678912\"), (\"012345678912\", \"0000123456789\")]\n",
    "\n",
    "output_list = format_data(input_list)\n",
    "print(output_list)"
   ]
  },
  {
   "cell_type": "code",
   "execution_count": 17,
   "metadata": {},
   "outputs": [
    {
     "name": "stdout",
     "output_type": "stream",
     "text": [
      "input_list =  [('0000123456789', '012345678912'), ('0000123456789', '012345678912'), ('012345678912', '0000123456789')]\n",
      "output_list =  [{'code': '012345678912', 'serial': '0000123456789'}, {'code': '012345678912', 'serial': '0000123456789'}, {'code': '012345678912', 'serial': '0000123456789'}]\n"
     ]
    }
   ],
   "source": [
    "input_list = [('0000123456789', '012345678912'), ('0000123456789', '012345678912'), ('012345678912', '0000123456789')]\n",
    "output_list = [\n",
    "{\n",
    "  \"code\": \"012345678912\",\n",
    "  \"serial\": \"0000123456789\"\n",
    "},\n",
    "{\n",
    "  \"code\": \"012345678912\",\n",
    "  \"serial\": \"0000123456789\"\n",
    "},\n",
    "{\n",
    "  \"code\": \"012345678912\",\n",
    "  \"serial\": \"0000123456789\"\n",
    "},\n",
    "]\n",
    "print(\"input_list = \", input_list)\n",
    "print(\"output_list = \", output_list)"
   ]
  }
 ],
 "metadata": {
  "kernelspec": {
   "display_name": ".venv",
   "language": "python",
   "name": "python3"
  },
  "language_info": {
   "codemirror_mode": {
    "name": "ipython",
    "version": 3
   },
   "file_extension": ".py",
   "mimetype": "text/x-python",
   "name": "python",
   "nbconvert_exporter": "python",
   "pygments_lexer": "ipython3",
   "version": "3.10.11"
  },
  "orig_nbformat": 4
 },
 "nbformat": 4,
 "nbformat_minor": 2
}
